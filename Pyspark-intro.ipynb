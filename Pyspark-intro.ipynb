{
 "cells": [
  {
   "cell_type": "markdown",
   "id": "35fc073a-6d79-4bc0-9445-0ab4cfbb13bd",
   "metadata": {},
   "source": [
    "Project baset on the code2j tutorial on youtube https://www.youtube.com/watch?v=EB8lfdxpirM"
   ]
  },
  {
   "cell_type": "code",
   "execution_count": 1,
   "id": "af2127cc-3589-4aaf-949c-422d0238d84f",
   "metadata": {},
   "outputs": [],
   "source": [
    "# Import pyspark\n",
    "from pyspark.sql import SparkSession"
   ]
  },
  {
   "cell_type": "code",
   "execution_count": 11,
   "id": "f61a6309-d102-4f46-a713-005f33b97123",
   "metadata": {},
   "outputs": [],
   "source": [
    "#import os\n",
    "#os.environ['PYSPARK_DRIVER_PYTHON'] = 'jupyter'\n",
    "#os.environ['PYSPARK_PYTHON'] = 'python'\n"
   ]
  },
  {
   "cell_type": "code",
   "execution_count": 2,
   "id": "57d76fab-655c-4402-a8c1-1c07403d3aa0",
   "metadata": {},
   "outputs": [],
   "source": [
    "# Create a SparkSession object\n",
    "spark = SparkSession.builder.appName(\"Pyspark-project\").getOrCreate()"
   ]
  },
  {
   "cell_type": "code",
   "execution_count": 3,
   "id": "bb22c8e0-e61d-4f94-bce9-7baad5dacb53",
   "metadata": {},
   "outputs": [
    {
     "name": "stdout",
     "output_type": "stream",
     "text": [
      "+-------+---+\n",
      "|   Name|Age|\n",
      "+-------+---+\n",
      "|  Alice| 25|\n",
      "|    Bob| 30|\n",
      "|Charlie| 35|\n",
      "+-------+---+\n",
      "\n"
     ]
    }
   ],
   "source": [
    "data = [(\"Alice\", 25), (\"Bob\", 30), (\"Charlie\", 35)]\n",
    "df = spark.createDataFrame(data, [\"Name\", \"Age\"])\n",
    "df.show()"
   ]
  },
  {
   "cell_type": "code",
   "execution_count": 4,
   "id": "c8641bd2-85da-43c4-a303-e59dca328a57",
   "metadata": {},
   "outputs": [
    {
     "data": {
      "text/html": [
       "\n",
       "            <div>\n",
       "                <p><b>SparkSession - in-memory</b></p>\n",
       "                \n",
       "        <div>\n",
       "            <p><b>SparkContext</b></p>\n",
       "\n",
       "            <p><a href=\"http://host.docker.internal:4040\">Spark UI</a></p>\n",
       "\n",
       "            <dl>\n",
       "              <dt>Version</dt>\n",
       "                <dd><code>v3.4.1</code></dd>\n",
       "              <dt>Master</dt>\n",
       "                <dd><code>local[*]</code></dd>\n",
       "              <dt>AppName</dt>\n",
       "                <dd><code>Pyspark-project</code></dd>\n",
       "            </dl>\n",
       "        </div>\n",
       "        \n",
       "            </div>\n",
       "        "
      ],
      "text/plain": [
       "<pyspark.sql.session.SparkSession at 0x22db3241350>"
      ]
     },
     "execution_count": 4,
     "metadata": {},
     "output_type": "execute_result"
    }
   ],
   "source": [
    "spark"
   ]
  },
  {
   "cell_type": "code",
   "execution_count": 5,
   "id": "45894dbb-69dd-415f-b8ee-e37c6acb87e5",
   "metadata": {},
   "outputs": [],
   "source": [
    "spark.stop()"
   ]
  },
  {
   "cell_type": "code",
   "execution_count": null,
   "id": "948629e4-d24e-4249-bfc1-8b8d1082aa9b",
   "metadata": {},
   "outputs": [],
   "source": []
  }
 ],
 "metadata": {
  "kernelspec": {
   "display_name": "Python 3 (ipykernel)",
   "language": "python",
   "name": "python3"
  },
  "language_info": {
   "codemirror_mode": {
    "name": "ipython",
    "version": 3
   },
   "file_extension": ".py",
   "mimetype": "text/x-python",
   "name": "python",
   "nbconvert_exporter": "python",
   "pygments_lexer": "ipython3",
   "version": "3.12.2"
  }
 },
 "nbformat": 4,
 "nbformat_minor": 5
}
