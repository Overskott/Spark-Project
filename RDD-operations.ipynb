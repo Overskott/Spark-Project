{
 "cells": [
  {
   "cell_type": "code",
   "execution_count": 1,
   "id": "ff5e79c8-753f-40b6-95af-f8e2bf910e34",
   "metadata": {},
   "outputs": [],
   "source": [
    "from pyspark.sql import SparkSession"
   ]
  },
  {
   "cell_type": "code",
   "execution_count": 2,
   "id": "4ca601b0-0ea1-4999-aa07-afe303bb60b5",
   "metadata": {},
   "outputs": [],
   "source": [
    "spark = SparkSession.builder.appName(\"RDD-demo\").getOrCreate()"
   ]
  },
  {
   "cell_type": "markdown",
   "id": "84c3f4c7-05ce-4b4a-be4e-6b2078fafda0",
   "metadata": {},
   "source": [
    "### How to create RDDs"
   ]
  },
  {
   "cell_type": "code",
   "execution_count": 3,
   "id": "065d852b-50ff-418e-b917-d960a73cbbfb",
   "metadata": {},
   "outputs": [
    {
     "data": {
      "text/plain": [
       "[1, 2, 3, 4, 5]"
      ]
     },
     "execution_count": 3,
     "metadata": {},
     "output_type": "execute_result"
    }
   ],
   "source": [
    "numbers = [1, 2, 3, 4, 5]\n",
    "rdd = spark.sparkContext.parallelize(numbers)\n"
   ]
  },
  {
   "cell_type": "code",
   "execution_count": 4,
   "id": "6e9cbe13-f6b5-4bf2-a861-15a569971dc7",
   "metadata": {},
   "outputs": [
    {
     "data": {
      "text/plain": [
       "[1, 2, 3, 4, 5]"
      ]
     },
     "execution_count": 4,
     "metadata": {},
     "output_type": "execute_result"
    }
   ],
   "source": [
    "# Collect action: retrieve all elements in the RDD\n",
    "rdd.collect()"
   ]
  },
  {
   "cell_type": "code",
   "execution_count": null,
   "id": "7829c385-9174-4802-834e-23e2d647da65",
   "metadata": {},
   "outputs": [],
   "source": []
  },
  {
   "cell_type": "code",
   "execution_count": 20,
   "id": "25827d42-73ff-488b-a54b-8bbaf9e9d423",
   "metadata": {},
   "outputs": [
    {
     "data": {
      "text/plain": [
       "[('Alice', 25), ('Bob', 30), ('Charlie', 35), ('Alice', 40)]"
      ]
     },
     "execution_count": 20,
     "metadata": {},
     "output_type": "execute_result"
    }
   ],
   "source": [
    "# Create an RDD from a list of tuples\n",
    "data = [(\"Alice\", 25), (\"Bob\", 30), (\"Charlie\", 35), (\"Alice\", 40)]\n",
    "rdd = spark.sparkContext.parallelize(data)\n",
    "rdd.collect()"
   ]
  },
  {
   "cell_type": "markdown",
   "id": "aa11838e-521e-4de3-99a8-0ac3d2ddd964",
   "metadata": {},
   "source": [
    "### RDDs operation: Actions"
   ]
  },
  {
   "cell_type": "code",
   "execution_count": 8,
   "id": "b1a6845c-d6af-4675-9ca9-cde74ff6a535",
   "metadata": {},
   "outputs": [
    {
     "name": "stdout",
     "output_type": "stream",
     "text": [
      "The number of elements in rdd: 3\n"
     ]
    }
   ],
   "source": [
    "# Count action: Returns the number of elements in the RDD\n",
    "count = rdd.count()\n",
    "print(f\"The number of elements in rdd: {count}\")"
   ]
  },
  {
   "cell_type": "code",
   "execution_count": 9,
   "id": "1bf4d92f-dffb-44f2-96ea-d2934db8da61",
   "metadata": {},
   "outputs": [
    {
     "name": "stdout",
     "output_type": "stream",
     "text": [
      "The first element in the RDD is: ('Alice', 25)\n"
     ]
    }
   ],
   "source": [
    "# First action: Retrieve the first element of the RDD\n",
    "first_element = rdd.first()\n",
    "print(f\"The first element in the RDD is: {first_element}\")"
   ]
  },
  {
   "cell_type": "code",
   "execution_count": 10,
   "id": "3407c13f-3dc2-443f-83fb-618fff072ce9",
   "metadata": {},
   "outputs": [
    {
     "name": "stdout",
     "output_type": "stream",
     "text": [
      "The first 2 elements of the RDD is: [('Alice', 25), ('Bob', 30)]\n"
     ]
    }
   ],
   "source": [
    "# Take action: Retrieve the n elements of the RDD\n",
    "n = 2\n",
    "taken_elements = rdd.take(n)\n",
    "print(f\"The first {n} elements of the RDD is: {taken_elements}\")"
   ]
  },
  {
   "cell_type": "code",
   "execution_count": 12,
   "id": "0f700eb5-e23e-4c9d-b95d-efe8594d3560",
   "metadata": {},
   "outputs": [],
   "source": [
    "# ForEach action: Print each element in the RDD\n",
    "rdd.foreach(lambda x: print(x))"
   ]
  },
  {
   "cell_type": "markdown",
   "id": "28126c57-2eab-4ede-bcc1-3944a6d4ff4c",
   "metadata": {},
   "source": [
    "### RDD Operations: Transformations"
   ]
  },
  {
   "cell_type": "code",
   "execution_count": 16,
   "id": "f589dadf-ff56-4cb1-9f98-82525eef2031",
   "metadata": {},
   "outputs": [
    {
     "name": "stdout",
     "output_type": "stream",
     "text": [
      "RDD with uppercase names [('ALICE', 25), ('BOB', 30), ('CHARLIE', 35)]\n"
     ]
    }
   ],
   "source": [
    "# Map transformation: Convert name to uppercase\n",
    "mapped_rdd = rdd.map(lambda x: (x[0].upper(), x[1]))\n",
    "results = mapped_rdd.collect()\n",
    "print(f\"RDD with uppercase names {results}\")"
   ]
  },
  {
   "cell_type": "code",
   "execution_count": 21,
   "id": "b185ec1d-0a39-438b-97df-f3b26393941e",
   "metadata": {},
   "outputs": [
    {
     "data": {
      "text/plain": [
       "[('Charlie', 35), ('Alice', 40)]"
      ]
     },
     "execution_count": 21,
     "metadata": {},
     "output_type": "execute_result"
    }
   ],
   "source": [
    "# Filter transformation: Filter records where age is greater then 30\n",
    "filtered_rdd = rdd.filter(lambda x: x[1] > 30)\n",
    "filtered_rdd.collect()"
   ]
  },
  {
   "cell_type": "code",
   "execution_count": 22,
   "id": "7f78e801-578a-4a66-a96d-ec55eb71a30e",
   "metadata": {},
   "outputs": [
    {
     "data": {
      "text/plain": [
       "[('Charlie', 35), ('Alice', 65), ('Bob', 30)]"
      ]
     },
     "execution_count": 22,
     "metadata": {},
     "output_type": "execute_result"
    }
   ],
   "source": [
    "# ReduceByKey transformation: Calcualte the total age of each name\n",
    "reduced_rdd = rdd.reduceByKey(lambda x, y: x + y)\n",
    "reduced_rdd.collect()"
   ]
  },
  {
   "cell_type": "code",
   "execution_count": 24,
   "id": "03add713-9297-471c-839a-832fe661ab02",
   "metadata": {},
   "outputs": [
    {
     "data": {
      "text/plain": [
       "[('Alice', 40), ('Charlie', 35), ('Bob', 30), ('Alice', 25)]"
      ]
     },
     "execution_count": 24,
     "metadata": {},
     "output_type": "execute_result"
    }
   ],
   "source": [
    "# SortBy transformation: Sort the RDD by age in decending order\n",
    "sorted_rdd = rdd.sortBy(lambda x: x[1], ascending=False)\n",
    "sorted_rdd.collect()"
   ]
  },
  {
   "cell_type": "markdown",
   "id": "651a668c-d384-4610-9deb-919bcf96b08e",
   "metadata": {},
   "source": [
    "### Save RRDs to text file and read RDDs from text files"
   ]
  },
  {
   "cell_type": "code",
   "execution_count": 28,
   "id": "552d8f34-4a29-44a5-8533-b49db127475d",
   "metadata": {},
   "outputs": [],
   "source": [
    "try:\n",
    "    rdd.saveAsTextFile(\"ouput.txt\")\n",
    "except:\n",
    "    pass\n"
   ]
  },
  {
   "cell_type": "markdown",
   "id": "0ac0a9f9-d60c-45d9-9043-8dc77be51b15",
   "metadata": {},
   "source": [
    "### Save RDDs to text file and read RDDs from text file"
   ]
  },
  {
   "cell_type": "code",
   "execution_count": null,
   "id": "cbef4afd-8a69-4df5-9db1-04792f1f8ef8",
   "metadata": {},
   "outputs": [],
   "source": [
    "# Create rdd from text file\n",
    "try:\n",
    "    rdd_text = spark.sparkContext.textFile(\"output.txt\")\n",
    "except:\n",
    "    pass\n",
    "rdd_text.collect()"
   ]
  },
  {
   "cell_type": "code",
   "execution_count": 31,
   "id": "455054de-5292-46f2-b8aa-95bc59516494",
   "metadata": {},
   "outputs": [],
   "source": [
    "spark.stop()"
   ]
  },
  {
   "cell_type": "code",
   "execution_count": null,
   "id": "34a06c3e-ebf8-4dc7-a2e3-e1a3ec30754b",
   "metadata": {},
   "outputs": [],
   "source": []
  }
 ],
 "metadata": {
  "kernelspec": {
   "display_name": "Python 3 (ipykernel)",
   "language": "python",
   "name": "python3"
  },
  "language_info": {
   "codemirror_mode": {
    "name": "ipython",
    "version": 3
   },
   "file_extension": ".py",
   "mimetype": "text/x-python",
   "name": "python",
   "nbconvert_exporter": "python",
   "pygments_lexer": "ipython3",
   "version": "3.11.8"
  }
 },
 "nbformat": 4,
 "nbformat_minor": 5
}
